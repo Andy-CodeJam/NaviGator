{
 "cells": [
  {
   "cell_type": "code",
   "execution_count": 1,
   "metadata": {},
   "outputs": [],
   "source": [
    "from search_request import SpiraQASearch, SpiraDocsSearch"
   ]
  },
  {
   "cell_type": "code",
   "execution_count": 2,
   "metadata": {},
   "outputs": [],
   "source": [
    "QUERY='How do I find a list of keyboard shortcuts?'"
   ]
  },
  {
   "cell_type": "code",
   "execution_count": 3,
   "metadata": {},
   "outputs": [],
   "source": [
    "qa = SpiraQASearch(QUERY)\n",
    "docs = SpiraDocsSearch(QUERY)"
   ]
  },
  {
   "cell_type": "code",
   "execution_count": 4,
   "metadata": {},
   "outputs": [],
   "source": [
    "qa_result = qa.search()\n",
    "docs_result = docs.search()"
   ]
  },
  {
   "cell_type": "code",
   "execution_count": 5,
   "metadata": {},
   "outputs": [
    {
     "data": {
      "text/plain": [
       "[{'question': 'Does Spira have keyboard shortcuts?',\n",
       "  'answer': 'To view the keyboard shortcut cheat sheet, select \\'Keyboard Shortcuts\\' from the profile menu (displayed when you select the caret next to your avatar/icon).\\\\n\\\\nEnsuring you\\'re not in an edit field, the sheet can also be accessed by typing \"?\" anywhere in the system.'},\n",
       " {'question': 'Why do I get results from other Products when I do a search from the Search bar at the top of the screen?',\n",
       "  'answer': 'Global searches (accessed via the magnifying glass) are executed across all products you have access to and all artifact types. If the artifact you are looking for is found in a product other than the one you are currently logged in to, selecting the link will switch to that product and load the selected artifact. See this [short video](https://cinfin.sharepoint.com/sites/SpiraTrainingandSupport/Shared%20Documents/Support/How-To%20Videos/General%20-%20Multi%20Module/Global%20Search.mp4) for a demo of global search.'},\n",
       " {'question': 'Is there a find and replace feature in Spira?',\n",
       "  'answer': 'Find and replace is available in the Detailed Information and Comments fields on all applicable artifacts. Select the find and replace icon on the toolbar to access this feature.\\xa0\\\\n\\\\nFind and replace in the list/bulk view is not available.'},\n",
       " {'question': 'Requirement Statuses: What do they mean?',\n",
       "  'answer': \"The Status of a requirement can be changed manually, but there are some Status transitions that can occur automatically. Three of these can be disabled in the Planning Options section of the Administration module.\\\\n\\\\n#### Auto-Create Tasks\\\\n\\\\n*   Requirements status becomes 'In-Progress' Result > An associated task is created\\\\n\\\\n#### Auto-Planned\\\\n\\\\n*   A release is assigned to a requirement > The requirement’s status is changed to ‘Planned’\\\\n\\\\n#### Use Task Status\\\\n\\\\n*   The status of tasks associated to a requirement changes > The status of the associated requirement is changed to correspond to the task status\\\\n\\\\n#### Use Test Status\\\\n\\\\n*   All test cases associated to a requirement have passed > The status of the requirement is set to ‘Tested’\\\\n\\\\nClick [this link](https://spiradoc.inflectra.com/Spira-Administration-Guide/Product-Planning/#requirements) for more details on how these options work\"},\n",
       " {'question': 'Which products do I have access to?',\n",
       "  'answer': 'To see a list of products you are a member of, select the caret next to the current product name in the header.'},\n",
       " {'question': 'List value blank',\n",
       "  'answer': 'Custom properties can be populated with a list of custom values (as opposed to a single date, boolean, or text value). A value in the list can be deactivated without deactivating the entire list itself. If this happens, the deactivated value will no longer display in the detail view of the affected artifacts. The value will continue to display in the list view.\\\\n\\\\nFor an illustration of the issue, see [this post](https://teams.microsoft.com/l/message/19:8d7c611c16884bfeb4a952a427452251@thread.skype/1667473265479?tenantId=0f087cc2-bc5d-40bf-8db4-41f99d0d1619&groupId=f9fb4dcc-4bd7-4b02-be38-a325f73fe3e0&parentMessageId=1667473265479&teamName=Spira%20Training%20and%20Support&channelName=Support&createdTime=1667473265479&allowXTenantAccess=false) from the Spira Support channel.'},\n",
       " {'question': 'Filter user list',\n",
       "  'answer': \"All active users are displayed in the 'Owner' list. Currently the only way to remove a user is to remove their access to the product.\"},\n",
       " {'question': \"The items I expect to see aren't showing when I filter the requirements list.\",\n",
       "  'answer': 'Some artifacts get lost when we use filters while collapsing parts of the tree. Select Show Levels > All Levels to fix this.\\\\n\\\\nThe same applies on the release list page.'},\n",
       " {'question': \"Can I customize the filter options available in the 'Display' list when I'm viewing an artifact?\",\n",
       "  'answer': \"The filter options available for the list preview (in the left navigation pane) are determined by the system. The 'Current Filter' reflects whatever filter you applied to the list before selecting an item to view in detail. The other options available vary by the artifact, but are in reference to the user logged in (for example, 'Detected' means incidents detected by the current user, 'Assigned' means requirements assigned to the current user).\"},\n",
       " {'question': 'creating a new product',\n",
       "  'answer': 'To request a new SpiraTeam Product, create a Test Support Work Request with the [Spira New Project Request Form](https://teams.microsoft.com/l/file/29F2518B-7AF1-402D-8851-BE622985DF74?tenantId=0f087cc2-bc5d-40bf-8db4-41f99d0d1619&fileType=xlsx&objectUrl=https%3A%2F%2Fcinfin.sharepoint.com%2Fsites%2FSpiraTrainingandSupport%2FShared%20Documents%2FSupport%2FHow-To%20Documentation%2FSpira_NewProjectRequest_Form.xlsx&baseUrl=https%3A%2F%2Fcinfin.sharepoint.com%2Fsites%2FSpiraTrainingandSupport&serviceName=teams&threadId=19:8d7c611c16884bfeb4a952a427452251@thread.skype&groupId=f9fb4dcc-4bd7-4b02-be38-a325f73fe3e0) filled out and attached.\\\\n\\\\nTo create a Test Support Work Request:\\\\n\\\\n1.  Go to \"The Bridge\"\\\\n2.  In your \"My Tools\" menu, select \"IT Request Center\"\\\\n3.  Enter \"Test Support Work Request\" in the search field (where it says \\'Hello, how can I help you?\\')\\\\n4.  Select \"Test Support\" from the results\\\\n5.  Select \"Request Now\" to begin a request\\\\n6.  Enter the requested information (including the \\'New Spira Project Request Form\\' linked at the bottom of the page)\\\\n7.  Select \"Submit Request\"'}]"
      ]
     },
     "execution_count": 5,
     "metadata": {},
     "output_type": "execute_result"
    }
   ],
   "source": [
    "qa_result"
   ]
  },
  {
   "cell_type": "code",
   "execution_count": 6,
   "metadata": {},
   "outputs": [
    {
     "data": {
      "text/plain": [
       "[{'title': 'Keyboard Shortcuts',\n",
       "  'content': 'Appendix 1: Keyboard Shortcuts¶ SpiraPlan® includes an array of keyboard shortcuts to speed up navigation and use of the application. All functionality can be performed using a mouse and clicking and therefore using a keyboard shortcut is never required. However, keyboard shortcuts can be an efficient way of performing common tasks. A list of the keyboard shortcuts and what they do is available throughout the application in two ways:  Via the user profile action menu By typing \"?\" anywhere in the application (not when the cursor is in a text field). For example, on Windows machines typing shift and the ? key together.  There are two main ways of using the shortcuts: either pressing a key or key(s) at the same time (indicated by a single key or \"a + b\"); or pressing a number of keys in succession as with normal typing (indicated by \"a ... b\"). The popup menu explaining the shortcuts is illustrated below (please note that the keyboard shortcuts displayed will vary depending on the current page:',\n",
       "  'entity': 'ORG',\n",
       "  'value': 'Windows',\n",
       "  'url': 'https://spiradoc.inflectra.com/Spira-Administration-Guide/../Spira-User-Manual/Appendix-1-Keyboard-Shortcuts/'},\n",
       " {'title': 'Keyboard Shortcuts',\n",
       "  'content': 'Appendix 1: Keyboard Shortcuts¶ SpiraPlan® includes an array of keyboard shortcuts to speed up navigation and use of the application. All functionality can be performed using a mouse and clicking and therefore using a keyboard shortcut is never required. However, keyboard shortcuts can be an efficient way of performing common tasks. A list of the keyboard shortcuts and what they do is available throughout the application in two ways:  Via the user profile action menu By typing \"?\" anywhere in the application (not when the cursor is in a text field). For example, on Windows machines typing shift and the ? key together.  There are two main ways of using the shortcuts: either pressing a key or key(s) at the same time (indicated by a single key or \"a + b\"); or pressing a number of keys in succession as with normal typing (indicated by \"a ... b\"). The popup menu explaining the shortcuts is illustrated below (please note that the keyboard shortcuts displayed will vary depending on the current page:',\n",
       "  'entity': 'PRODUCT',\n",
       "  'value': 'SpiraPlan®',\n",
       "  'url': 'https://spiradoc.inflectra.com/Spira-User-Manual/Appendix-1-Keyboard-Shortcuts/'},\n",
       " {'title': 'User Management',\n",
       "  'content': 'able workspaces and clicking any of these will change you to that workspace. At the top of this dropdown is a filter box where you can type to filter the workspaces to only those that match your search  Artifacts Selector: when visible, this shows the name of the current artifact for the current workspace. Clicking it will show all your available artifacts and clicking any of these will change you to that artifacts main page. For product workspaces these artifacts are grouped as follows:  Planning Requirements Planning Board Releases Documents   Testing Test Cases Test Sets Test Runs Automation Hosts   Tracking Incidents Tasks Risks Resources Source Code   Reporting   User Profile Icon  My Profile My Timecard Documentation Show on boarding tours Keyboard shortcuts Log Out Administration Icon: This is visible if you are a system administrator, or if you are an owner/administrator of the current workspace or its template. Clicking the icon will display the relevant administration menu. This is described in the separate SpiraPlan Administration Guide.   Global Search¶ SpiraPlan includes a global search that can be used to search across product and artifact type for items that include the entered keywords in either the name or description field. Clicking on the search icon in the global navigation will let you type in your search term. You will also see a popup below the search box that gives you quick access to recent artifacts you have looked at, and also to your most recent searches. After you search for something you see all matching results:  You can search for individual keywords by entering them in the search box and clicking the arrow button on the right. You can search for phrases by enclosing the words in double quotes. You can also search for a specific artifact by its unique two-letter prefix and ID number. For example, searching on book name will find any artifacts that include either of the two words book and name in the name or description. Searching on \"',\n",
       "  'entity': 'LANGUAGE',\n",
       "  'value': 'French',\n",
       "  'url': 'https://spiradoc.inflectra.com/Spira-Administration-Guide/../Spira-User-Manual/User-Product-Management/'},\n",
       " {'title': 'User Management',\n",
       "  'content': 'able workspaces and clicking any of these will change you to that workspace. At the top of this dropdown is a filter box where you can type to filter the workspaces to only those that match your search  Artifacts Selector: when visible, this shows the name of the current artifact for the current workspace. Clicking it will show all your available artifacts and clicking any of these will change you to that artifacts main page. For product workspaces these artifacts are grouped as follows:  Planning Requirements Planning Board Releases Documents   Testing Test Cases Test Sets Test Runs Automation Hosts   Tracking Incidents Tasks Risks Resources Source Code   Reporting   User Profile Icon  My Profile My Timecard Documentation Show on boarding tours Keyboard shortcuts Log Out Administration Icon: This is visible if you are a system administrator, or if you are an owner/administrator of the current workspace or its template. Clicking the icon will display the relevant administration menu. This is described in the separate SpiraPlan Administration Guide.   Global Search¶ SpiraPlan includes a global search that can be used to search across product and artifact type for items that include the entered keywords in either the name or description field. Clicking on the search icon in the global navigation will let you type in your search term. You will also see a popup below the search box that gives you quick access to recent artifacts you have looked at, and also to your most recent searches. After you search for something you see all matching results:  You can search for individual keywords by entering them in the search box and clicking the arrow button on the right. You can search for phrases by enclosing the words in double quotes. You can also search for a specific artifact by its unique two-letter prefix and ID number. For example, searching on book name will find any artifacts that include either of the two words book and name in the name or description. Searching on \"',\n",
       "  'entity': 'PRODUCT',\n",
       "  'value': 'TC2 | Authenticator | SpiraPlan Administration Guide | 1Password | the Enable Notifications | SpiraPlan® | Instant Messenger¶ | SpiraPlan | Okta | Spira | SpiraTeam',\n",
       "  'url': 'https://spiradoc.inflectra.com/SpiraPlan-Quick-Start-Guide/../Spira-User-Manual/User-Product-Management/'},\n",
       " {'title': 'User Management',\n",
       "  'content': 'able workspaces and clicking any of these will change you to that workspace. At the top of this dropdown is a filter box where you can type to filter the workspaces to only those that match your search  Artifacts Selector: when visible, this shows the name of the current artifact for the current workspace. Clicking it will show all your available artifacts and clicking any of these will change you to that artifacts main page. For product workspaces these artifacts are grouped as follows:  Planning Requirements Planning Board Releases Documents   Testing Test Cases Test Sets Test Runs Automation Hosts   Tracking Incidents Tasks Risks Resources Source Code   Reporting   User Profile Icon  My Profile My Timecard Documentation Show on boarding tours Keyboard shortcuts Log Out Administration Icon: This is visible if you are a system administrator, or if you are an owner/administrator of the current workspace or its template. Clicking the icon will display the relevant administration menu. This is described in the separate SpiraPlan Administration Guide.   Global Search¶ SpiraPlan includes a global search that can be used to search across product and artifact type for items that include the entered keywords in either the name or description field. Clicking on the search icon in the global navigation will let you type in your search term. You will also see a popup below the search box that gives you quick access to recent artifacts you have looked at, and also to your most recent searches. After you search for something you see all matching results:  You can search for individual keywords by entering them in the search box and clicking the arrow button on the right. You can search for phrases by enclosing the words in double quotes. You can also search for a specific artifact by its unique two-letter prefix and ID number. For example, searching on book name will find any artifacts that include either of the two words book and name in the name or description. Searching on \"',\n",
       "  'entity': 'NORP',\n",
       "  'value': 'French | German',\n",
       "  'url': 'https://spiradoc.inflectra.com/HowTo-Guides/Users-orientation/../../Spira-User-Manual/User-Product-Management/'},\n",
       " {'title': 'Document Management',\n",
       "  'content': \"remove sheets by clicking or right clicking on the sheets bar at the bottom of the spreadsheet  Importing from and exporting to Excel: Go to   File -> Import As... -> Microsoft Excel (.xlsx) in the menu or  File -> Download As... -> Microsoft Excel (.xlsx)  Formulas (including across sheets): work as in other spreadsheet applications. Here is a simple example to sum three cells: =sum(A1:A3). See our full guide to all supported functions below.   Formatting: use the menu to change  styles (bold, italic, underline) alignment (horizontal and vertical) colors (text and background) content type (numbers, percentage, dates, currency, or text)  Rows and columns: add, remove, and resize   Locking cells: Right-click a cell/a range of cells you want to lock/unlock. Choose the Lock/Unlock cell option in the appeared context menu.  Data sorting  Data validation (to create a drop-down list):   Select a cell or a range of cells where you want to create the list Go to: Data -> Data validation in the menu Choose the List of items criteria Type the items you want to appear in the drop-down list Press the Save button  Common keyboard shortcuts for things like undo, redo, copy, paste  Access features with a context menu and also menu bar  Properties¶  This tab allows you to view and/or edit the document's details (thinks like the description, author, tags, any custom fields). Make any changes and then click Save to commit the changes. Comments¶ Read about how the comments works Document Versions¶ This tab displays the list all the different versions that exist for the current document. When you first create a new document there will be only a single version (e.g. v1.0). As you change and update the document you do not need to create a whole new document. Instead, upload new versions or edit the document inline (if possible). This will create new versions of the file - you can have as many versions as you need and should give each a unique version number to help track them. Each versio\",\n",
       "  'entity': 'ORG',\n",
       "  'value': 'XLOOKUP | AVEDEV | STDEVA | BINOM.DIST | TRUNC | Treasury | COVARIANCE.P | ISO | STDEVP | COVARIANCE.S | STDEVPA | Weibull | COUNTA | OCT2DEC | VARP | DEVSQ | DELTA | ACOT | RAND | Microsoft | VARA | QUOTIENT | non-Windows® | GAMMA | VARPA',\n",
       "  'url': 'https://spiradoc.inflectra.com/HowTo-Guides/Users-orientation/../../Spira-User-Manual/Document-Management/'},\n",
       " {'title': 'User Management',\n",
       "  'content': 'able workspaces and clicking any of these will change you to that workspace. At the top of this dropdown is a filter box where you can type to filter the workspaces to only those that match your search  Artifacts Selector: when visible, this shows the name of the current artifact for the current workspace. Clicking it will show all your available artifacts and clicking any of these will change you to that artifacts main page. For product workspaces these artifacts are grouped as follows:  Planning Requirements Planning Board Releases Documents   Testing Test Cases Test Sets Test Runs Automation Hosts   Tracking Incidents Tasks Risks Resources Source Code   Reporting   User Profile Icon  My Profile My Timecard Documentation Show on boarding tours Keyboard shortcuts Log Out Administration Icon: This is visible if you are a system administrator, or if you are an owner/administrator of the current workspace or its template. Clicking the icon will display the relevant administration menu. This is described in the separate SpiraPlan Administration Guide.   Global Search¶ SpiraPlan includes a global search that can be used to search across product and artifact type for items that include the entered keywords in either the name or description field. Clicking on the search icon in the global navigation will let you type in your search term. You will also see a popup below the search box that gives you quick access to recent artifacts you have looked at, and also to your most recent searches. After you search for something you see all matching results:  You can search for individual keywords by entering them in the search box and clicking the arrow button on the right. You can search for phrases by enclosing the words in double quotes. You can also search for a specific artifact by its unique two-letter prefix and ID number. For example, searching on book name will find any artifacts that include either of the two words book and name in the name or description. Searching on \"',\n",
       "  'entity': 'PERSON',\n",
       "  'value': 'My Profile',\n",
       "  'url': 'https://spiradoc.inflectra.com/Spira-User-Manual/User-Product-Management/'},\n",
       " {'title': 'What are workspaces and how to pick one',\n",
       "  'content': 'e. Clicking on this will open your user profile Other links in the user menu let you access various help: documentation for the page you are on; keyboard shortcuts; or in-app onboarding tours.  From the user menu you can also go to your timecard (SpiraTeam or SpiraPlan only), and change your dark mode settings  Artifact list and details pages¶  Each artifact has its own dedicated pages of the Spira application. For example, when viewing a product, you can go to the incident artifact from the artifact selector of the global navigation bar. This will take you to the incident list page.  What is an artifact list page?  An artifact list page has a table that lists 15-500 artifacts at a time. You can, depending on the specific artifact, move things around this table, sort, or filter the table. On the left hand side of many list pages there are sidebars that help you navigate around the list more quickly or easily, or provide other useful information At the top of each list page there is a toolbar with buttons to do things like add or delete items on the list, apply or remove filters, and more Clicking on a specific artifact from its page or elsewhere will open the artifact details page. What is an artifact details page?  An artifact details page shows all the information about a single artifact - you can only view one at a time There are often different tabs on the main part of this page to help you focus on different parts of the page. For instance there maybe an attachments tab, or a test coverage tab On the left hand side of the detail page there will be a sidebar that helps you navigate between other relevant artifacts without having to go back to the artifact list page At the top of each list page there is a toolbar with buttons to do things like save any changes, email the artifact to a teammate, or create a new artifact',\n",
       "  'entity': 'PRODUCT',\n",
       "  'value': 'Spira | SpiraTeam | SpiraPlan',\n",
       "  'url': 'https://spiradoc.inflectra.com/HowTo-Guides/Users-orientation/#using-the-user-menu'},\n",
       " {'title': 'User Management',\n",
       "  'content': 'able workspaces and clicking any of these will change you to that workspace. At the top of this dropdown is a filter box where you can type to filter the workspaces to only those that match your search  Artifacts Selector: when visible, this shows the name of the current artifact for the current workspace. Clicking it will show all your available artifacts and clicking any of these will change you to that artifacts main page. For product workspaces these artifacts are grouped as follows:  Planning Requirements Planning Board Releases Documents   Testing Test Cases Test Sets Test Runs Automation Hosts   Tracking Incidents Tasks Risks Resources Source Code   Reporting   User Profile Icon  My Profile My Timecard Documentation Show on boarding tours Keyboard shortcuts Log Out Administration Icon: This is visible if you are a system administrator, or if you are an owner/administrator of the current workspace or its template. Clicking the icon will display the relevant administration menu. This is described in the separate SpiraPlan Administration Guide.   Global Search¶ SpiraPlan includes a global search that can be used to search across product and artifact type for items that include the entered keywords in either the name or description field. Clicking on the search icon in the global navigation will let you type in your search term. You will also see a popup below the search box that gives you quick access to recent artifacts you have looked at, and also to your most recent searches. After you search for something you see all matching results:  You can search for individual keywords by entering them in the search box and clicking the arrow button on the right. You can search for phrases by enclosing the words in double quotes. You can also search for a specific artifact by its unique two-letter prefix and ID number. For example, searching on book name will find any artifacts that include either of the two words book and name in the name or description. Searching on \"',\n",
       "  'entity': 'ORG',\n",
       "  'value': 'Google | SpiraPlan | Inflectra | SpiraTeam | My Page | My Profile',\n",
       "  'url': 'https://spiradoc.inflectra.com/SpiraPlan-Quick-Start-Guide/../Spira-User-Manual/User-Product-Management/'},\n",
       " {'title': 'What are workspaces and how to pick one',\n",
       "  'content': 'rd by clicking the large workspace icon on the navigation bar  How to open a product¶  Open the workspace dropdown from the global navigation bar Each workspace type has a unique icon. The icon for products is a single hexagon. They are nested inside of programs (this icon is three hexagons) Click on the product you want to open By default this will open the product home page But if you are changing from one product to another then the page you are on will stay the same, but for the new product   What are artifacts and how to pick one¶  Artifacts are the building blocks of a product or program and contain all of their data.  Each artifact holds different data and is used in different ways. For instance, requirements are one artifact, and releases are another. They both work differently, and are not interchangable. Spira has specific artifacts designed to help you do things like test, plan, track bugs and tasks, and more. By using the artifact selector on the global navigation bar you can see all the artifacts available to you for the current workspace.  To learn more about each artifact, hover over the artifact name in the artifact selector to see its tooltip If you do not see the artifacts you expect for a particular product, it may be because of your role on the product. Discuss this with your product administrator  Using the user menu¶  Clicking on your user avatar on the global navigation bar will open the user menu At the top there is a large user avatar next to your name. Clicking on this will open your user profile Other links in the user menu let you access various help: documentation for the page you are on; keyboard shortcuts; or in-app onboarding tours.  From the user menu you can also go to your timecard (SpiraTeam or SpiraPlan only), and change your dark mode settings  Artifact list and details pages¶  Each artifact has its own dedicated pages of the Spira application. For example, when viewing a product, you can go to the incident artifact from the art',\n",
       "  'entity': 'PRODUCT',\n",
       "  'value': 'Spira | SpiraTeam | SpiraPlan',\n",
       "  'url': 'https://spiradoc.inflectra.com/HowTo-Guides/Users-orientation/#using-the-user-menu'}]"
      ]
     },
     "execution_count": 6,
     "metadata": {},
     "output_type": "execute_result"
    }
   ],
   "source": [
    "docs_result"
   ]
  }
 ],
 "metadata": {
  "kernelspec": {
   "display_name": ".venv",
   "language": "python",
   "name": "python3"
  },
  "language_info": {
   "codemirror_mode": {
    "name": "ipython",
    "version": 3
   },
   "file_extension": ".py",
   "mimetype": "text/x-python",
   "name": "python",
   "nbconvert_exporter": "python",
   "pygments_lexer": "ipython3",
   "version": "3.10.12"
  },
  "orig_nbformat": 4
 },
 "nbformat": 4,
 "nbformat_minor": 2
}
