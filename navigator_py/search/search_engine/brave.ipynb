{
 "cells": [
  {
   "cell_type": "code",
   "execution_count": 1,
   "metadata": {},
   "outputs": [
    {
     "data": {
      "text/plain": [
       "True"
      ]
     },
     "execution_count": 1,
     "metadata": {},
     "output_type": "execute_result"
    }
   ],
   "source": [
    "from dotenv import load_dotenv, find_dotenv\n",
    "\n",
    "load_dotenv(find_dotenv())"
   ]
  },
  {
   "cell_type": "code",
   "execution_count": 2,
   "metadata": {},
   "outputs": [
    {
     "data": {
      "text/plain": [
       "[{'title': 'Walmart Statement on Firearms Policy',\n",
       "  'url': 'https://corporate.walmart.com/news/2018/02/28/walmart-statement-on-firearms-policy',\n",
       "  'is_source_local': False,\n",
       "  'is_source_both': False,\n",
       "  'description': 'In light of recent events, we’ve taken an opportunity to review our policy on firearm sales. Going forward, we are raising the age restriction for purchase of firearms and ammunition to 21 years of age. We will update our processes as quickly as possible to implement this change.',\n",
       "  'page_age': '2018-02-28T23:10:09',\n",
       "  'profile': {'name': 'Walmart',\n",
       "   'url': 'https://corporate.walmart.com/news/2018/02/28/walmart-statement-on-firearms-policy',\n",
       "   'long_name': 'corporate.walmart.com',\n",
       "   'img': 'https://imgs.search.brave.com/MhH6VlRGIN78KbSFiBW3iNIZ4mfNA_OYIQdHk-mMgig/rs:fit:32:32:1:0/g:ce/aHR0cDovL2Zhdmlj/b25zLnNlYXJjaC5i/cmF2ZS5jb20vaWNv/bnMvYWMwZDRhZjIy/MGJlZjc4OWZhYWJh/OThmMGJjYTc1Nzc5/NzVjOTUwZTU4ZjE1/ZGY2Yzg2Yjc1N2Fm/NjdmOTIwMC9jb3Jw/b3JhdGUud2FsbWFy/dC5jb20v'},\n",
       "  'language': 'en',\n",
       "  'family_friendly': True,\n",
       "  'type': 'search_result',\n",
       "  'subtype': 'article',\n",
       "  'meta_url': {'scheme': 'https',\n",
       "   'netloc': 'corporate.walmart.com',\n",
       "   'hostname': 'corporate.walmart.com',\n",
       "   'favicon': 'https://imgs.search.brave.com/MhH6VlRGIN78KbSFiBW3iNIZ4mfNA_OYIQdHk-mMgig/rs:fit:32:32:1:0/g:ce/aHR0cDovL2Zhdmlj/b25zLnNlYXJjaC5i/cmF2ZS5jb20vaWNv/bnMvYWMwZDRhZjIy/MGJlZjc4OWZhYWJh/OThmMGJjYTc1Nzc5/NzVjOTUwZTU4ZjE1/ZGY2Yzg2Yjc1N2Fm/NjdmOTIwMC9jb3Jw/b3JhdGUud2FsbWFy/dC5jb20v',\n",
       "   'path': '› news  › 2018  › 02  › 28  › walmart-statement-on-firearms-policy'},\n",
       "  'thumbnail': {'src': 'https://imgs.search.brave.com/xhrjT4uEM0aoC2Z1iKcq__MKCcVNUSFPtCFnmmDmmN0/rs:fit:200:200:1:0/g:ce/aHR0cHM6Ly9jb3Jw/b3JhdGUud2FsbWFy/dC5jb20vY29udGVu/dC9kYW0vY29ycG9y/YXRlL3NpdGUtaW1h/Z2VzL3NwYXJrLnN2/Zw',\n",
       "   'original': 'https://corporate.walmart.com/content/dam/corporate/site-images/spark.svg',\n",
       "   'logo': True},\n",
       "  'age': 'February 28, 2018'},\n",
       " {'title': 'What is Walmart doing to guarantee responsible firearm sales?',\n",
       "  'url': 'https://corporate.walmart.com/askwalmart/what-is-walmart-doing-to-guarantee-responsible-firearm-sales',\n",
       "  'is_source_local': False,\n",
       "  'is_source_both': False,\n",
       "  'description': 'We care deeply about the responsible sale and regulation of firearms, and we know this is also an important issue to our customers.',\n",
       "  'page_age': '2023-09-07T22:00:14',\n",
       "  'profile': {'name': 'Walmart',\n",
       "   'url': 'https://corporate.walmart.com/askwalmart/what-is-walmart-doing-to-guarantee-responsible-firearm-sales',\n",
       "   'long_name': 'corporate.walmart.com',\n",
       "   'img': 'https://imgs.search.brave.com/MhH6VlRGIN78KbSFiBW3iNIZ4mfNA_OYIQdHk-mMgig/rs:fit:32:32:1:0/g:ce/aHR0cDovL2Zhdmlj/b25zLnNlYXJjaC5i/cmF2ZS5jb20vaWNv/bnMvYWMwZDRhZjIy/MGJlZjc4OWZhYWJh/OThmMGJjYTc1Nzc5/NzVjOTUwZTU4ZjE1/ZGY2Yzg2Yjc1N2Fm/NjdmOTIwMC9jb3Jw/b3JhdGUud2FsbWFy/dC5jb20v'},\n",
       "  'language': 'en',\n",
       "  'family_friendly': True,\n",
       "  'type': 'search_result',\n",
       "  'subtype': 'generic',\n",
       "  'meta_url': {'scheme': 'https',\n",
       "   'netloc': 'corporate.walmart.com',\n",
       "   'hostname': 'corporate.walmart.com',\n",
       "   'favicon': 'https://imgs.search.brave.com/MhH6VlRGIN78KbSFiBW3iNIZ4mfNA_OYIQdHk-mMgig/rs:fit:32:32:1:0/g:ce/aHR0cDovL2Zhdmlj/b25zLnNlYXJjaC5i/cmF2ZS5jb20vaWNv/bnMvYWMwZDRhZjIy/MGJlZjc4OWZhYWJh/OThmMGJjYTc1Nzc5/NzVjOTUwZTU4ZjE1/ZGY2Yzg2Yjc1N2Fm/NjdmOTIwMC9jb3Jw/b3JhdGUud2FsbWFy/dC5jb20v',\n",
       "   'path': '› askwalmart  › what-is-walmart-doing-to-guarantee-responsible-firearm-sales'},\n",
       "  'thumbnail': {'src': 'https://imgs.search.brave.com/xhrjT4uEM0aoC2Z1iKcq__MKCcVNUSFPtCFnmmDmmN0/rs:fit:200:200:1:0/g:ce/aHR0cHM6Ly9jb3Jw/b3JhdGUud2FsbWFy/dC5jb20vY29udGVu/dC9kYW0vY29ycG9y/YXRlL3NpdGUtaW1h/Z2VzL3NwYXJrLnN2/Zw',\n",
       "   'original': 'https://corporate.walmart.com/content/dam/corporate/site-images/spark.svg',\n",
       "   'logo': True},\n",
       "  'age': 'September 7, 2023'},\n",
       " {'title': 'r/NJGuns on Reddit: Had no idea Walmart still sells gun products',\n",
       "  'url': 'https://www.reddit.com/r/NJGuns/comments/18zhh76/had_no_idea_walmart_still_sells_gun_products/',\n",
       "  'is_source_local': False,\n",
       "  'is_source_both': False,\n",
       "  'description': 'Went to a <strong>walmart</strong> in Virginia, ... guns or <strong>handguns</strong>, but the one did have a marlin 45-70 ... Ok...what is a &quot;scary gun&quot;? People say that a lot but aren&#x27;t they all? A musket is a scary gun when it&#x27;s pointed at you. Right? <strong>Walmart</strong> is just another place to attack the 2nd Ammendment. I&#x27;m in the Communist state of NJ and Dicks removed them too. They hate guns here and they are the weak left and oath breakers. In other states they <strong>sell</strong> the ...',\n",
       "  'page_age': '2024-01-05T21:01:22',\n",
       "  'profile': {'name': 'Reddit',\n",
       "   'url': 'https://www.reddit.com/r/NJGuns/comments/18zhh76/had_no_idea_walmart_still_sells_gun_products/',\n",
       "   'long_name': 'reddit.com',\n",
       "   'img': 'https://imgs.search.brave.com/U-eHNCapRHVNWWCVPPMTIvOofZULh0_A_FQKe8xTE4I/rs:fit:32:32:1:0/g:ce/aHR0cDovL2Zhdmlj/b25zLnNlYXJjaC5i/cmF2ZS5jb20vaWNv/bnMvN2ZiNTU0M2Nj/MTFhZjRiYWViZDlk/MjJiMjBjMzFjMDRk/Y2IzYWI0MGI0MjVk/OGY5NzQzOGQ5NzQ5/NWJhMWI0NC93d3cu/cmVkZGl0LmNvbS8'},\n",
       "  'language': 'en',\n",
       "  'family_friendly': True,\n",
       "  'type': 'search_result',\n",
       "  'subtype': 'qa',\n",
       "  'meta_url': {'scheme': 'https',\n",
       "   'netloc': 'reddit.com',\n",
       "   'hostname': 'www.reddit.com',\n",
       "   'favicon': 'https://imgs.search.brave.com/U-eHNCapRHVNWWCVPPMTIvOofZULh0_A_FQKe8xTE4I/rs:fit:32:32:1:0/g:ce/aHR0cDovL2Zhdmlj/b25zLnNlYXJjaC5i/cmF2ZS5jb20vaWNv/bnMvN2ZiNTU0M2Nj/MTFhZjRiYWViZDlk/MjJiMjBjMzFjMDRk/Y2IzYWI0MGI0MjVk/OGY5NzQzOGQ5NzQ5/NWJhMWI0NC93d3cu/cmVkZGl0LmNvbS8',\n",
       "   'path': '  › r/njguns  › had no idea walmart still sells gun products'},\n",
       "  'thumbnail': {'src': 'https://imgs.search.brave.com/RRQOTFEyvOKklqLmsud-pIXN2dyji5Z4u2RBwjA2cRo/rs:fit:200:200:1:0/g:ce/aHR0cHM6Ly9pLnJl/ZGQuaXQvaGFkLW5v/LWlkZWEtd2FsbWFy/dC1zdGlsbC1zZWxs/cy1ndW4tcHJvZHVj/dHMtdjAtb2Nia2ph/NWRyb2FjMS5qcGc_/d2lkdGg9MzAwMCZm/b3JtYXQ9cGpwZyZh/dXRvPXdlYnAmcz0x/YWRhODFkY2FiNmFj/YTYyYTVlNTg2Nzhm/ZTdkNDljMzY3M2Fj/Yjc3',\n",
       "   'original': 'https://i.redd.it/had-no-idea-walmart-still-sells-gun-products-v0-ocbkja5droac1.jpg?width=3000&format=pjpg&auto=webp&s=1ada81dcab6aca62a5e58678fe7d49c3673acb77',\n",
       "   'logo': False},\n",
       "  'age': 'January 5, 2024'}]"
      ]
     },
     "execution_count": 2,
     "metadata": {},
     "output_type": "execute_result"
    }
   ],
   "source": [
    "from navigator_py.brave_api import BraveRequest, BraveResult\n",
    "\n",
    "brave = BraveResult(BraveRequest(), \"does walmart sell handguns\")\n",
    "brave.top(3)"
   ]
  },
  {
   "cell_type": "code",
   "execution_count": 3,
   "metadata": {},
   "outputs": [
    {
     "data": {
      "text/plain": [
       "[{'Walmart Statement on Firearms Policy': 'https://corporate.walmart.com/news/2018/02/28/walmart-statement-on-firearms-policy'},\n",
       " {'What is Walmart doing to guarantee responsible firearm sales?': 'https://corporate.walmart.com/askwalmart/what-is-walmart-doing-to-guarantee-responsible-firearm-sales'},\n",
       " {'r/NJGuns on Reddit: Had no idea Walmart still sells gun products': 'https://www.reddit.com/r/NJGuns/comments/18zhh76/had_no_idea_walmart_still_sells_gun_products/'}]"
      ]
     },
     "execution_count": 3,
     "metadata": {},
     "output_type": "execute_result"
    }
   ],
   "source": [
    "brave.get_links()"
   ]
  },
  {
   "cell_type": "code",
   "execution_count": 4,
   "metadata": {},
   "outputs": [
    {
     "data": {
      "text/plain": [
       "['Feb. 28, 2018\\nFebruary 28, 2018\\nIn light of recent events, we’ve taken an opportunity to review our policy on firearm sales. Going forward, we are raising the age restriction for purchase of firearms and ammunition to 21 years of age. We will update our processes as quickly as possible to implement this change.\\nIn 2015, Walmart ended sales of modern sporting rifles, including the AR-15. We also do not sell handguns, except in Alaska where we feel we should continue to offer them to our customers. Additionally, we do not sell bump stocks, high-capacity magazines and similar accessories. We have a process to monitor our eCommerce marketplace and ensure our policies are applied.\\nWe take seriously our obligation to be a responsible seller of firearms and go beyond Federal law by requiring customers to pass a background check before purchasing any firearm. The law would allow the sale of a firearm if no response to a background check request has been received within three business days, but our policy prohibits the sale until an approval is given.\\nWe are also removing items from our website resembling assault-style rifles, including nonlethal airsoft guns and toys. Our heritage as a company has always been in serving sportsmen and hunters, and we will continue to do so in a responsible way.',\n",
       " 'We understand the responsibility that comes with our deeply rooted place in America and our influence as the world’s largest retailer. We care deeply about the responsible sale and regulation of firearms, and we know this is also an important issue to our customers.\\nIn 2018, we made the decision to raise the minimum age to purchase firearms and ammunition in our stores to 21 years of age. In years prior, we ended sales of modern sporting rifles, including the AR-15. Most recently, in September 2019, we decided to no longer sell the ammunition that can be used in large capacity magazines on military-style weapons, which we do not sell. We also made a complete exit from handgun sales. We will focus our assortment of ammunition on the firearms we do carry.\\nAdditionally, we require that customers pass a background check, despite federal law allowing firearms to be sold after a three-day waiting period even if approval isn’t received. We also videotape the point of sale for firearms and only allow certain trained associate to sell firearms.\\nOur heritage as a company has always been in serving sportsmen and hunters, and we plan to continue to do so in a responsible way.',\n",
       " \"For all things related to NJ guns. Review the Posting Rules in the menu before posting.\\nI could of sworn I seen guns at Walmart as a kid. Sure as heck never seen them as adults here in jersey. Didn't know they still had the basic essentials\",\n",
       " '',\n",
       " 'Watch CBS News\\nBy Kate Gibson\\nOctober 30, 2020 / 3:45 PM EDT / MoneyWatch\\nWalmart on Friday said it is returning guns and ammunition to store floors, describing incidents of what the retailer called \"civil unrest\" in several of its stores earlier this week as \"isolated.\"\\nThe move comes a day after Walmart said it had pulled firearms and ammo from store displays. A Walmart is among scores of stores looted amid two nights of protests that followed a fatal shooting Monday by police in Philadelphia.\\n\"After civil unrest earlier this week resulted in damage to several of our stores, consistent with actions we took over the summer, we asked stores to move firearms and ammunition from the sales floor to a secure location in the back of the store in an abundance of caution,\" a Walmart spokesperson said by email. \"As the current incidents have remained geographically isolated, we have made the decision to begin returning these products to the sales floor today.\"\\nThe company also removed firearms and ammo from stores in June after several of its stores were damaged in protests following the death of George Floyd at the hands of Minneapolis police.\\nThe nation\\'s biggest retailer remains a major seller of guns and ammunition, although it has scaled back, selling firearms in roughly half of its 4,700 U.S. stores.\\nWalmart stopped selling ammunition that can be used in semiautomatic rifles and handguns after a 2019 shooting at one of its stores in El Paso, Texas, killed 23 people. The company stopped selling assault-style weapons in 2015 and raised the minimum age to buy firearms and ammunition to 21, from 18, in 2018. It stopped selling handguns everywhere but Alaska in 1993, and ended its sales of rifles like the AR-15 in 2015.\\nWalmart CEO Doug McMillon has resisted pressure that he take his company out of the gun business altogether, saying last year that its remaining assortment of firearms will focus on hunting and sport shooting.\\nConsumer demand for firearms has jumped this year. The National Shooting Sports Foundation, an industry trade group, estimates there were a record 12.1 million background checks for gun purchases from January through July, up nearly 72% from 7.1 million gun checks in the year-ago period.\\nForty percent of firearms sales involves purchasers who\\'d never owned a gun, according to a NSSF survey of firearm retailers. It concludes that almost 5 million Americans bought a gun for the first time in 2020.\\nGun dealers reported a surge in firearm sales this spring as the coronavirus was spreading. \"If martial law was declared, they want to be prepared to protect their homes,\" one dealer told CBS MoneyWatch at the time. \"With this coronavirus, there is a fear of the unknown.\"\\nBefore COVID-19, firearm sales had tumbled in recent years in part because of fewer concerns among gun buyers about stricter regulation under President Donald Trump. A rash of mass shootings around the country also has driven some large companies and retailers to stop doing business with the gun industry.\\nKate Gibson is a reporter for CBS MoneyWatch in New York, where she covers business and consumer finance.\\n© 2020 CBS Interactive Inc. All Rights Reserved.\\nCopyright ©2024 CBS Interactive Inc. All rights reserved.\\nQuotes delayed at least 15 minutes.\\nMarket data provided by ICE Data Services. ICE Limitations. Powered and implemented by FactSet. News provided by The Associated Press. Legal Statement.',\n",
       " 'Activate and hold the button to confirm that you’re human. Thank You!\\n© Walmart Stores, Inc.',\n",
       " '',\n",
       " 'Markets\\nHot Stocks\\nFear & Greed Index\\nLatest Market News\\nHot Stocks\\nWalmart on Tuesday announced it will reduce its gun and ammunition sales, one month after more than 20 people were killed in a mass shooting at a Walmart in El Paso, Texas. Walmart also pressured Congress to enact gun safety measures.\\nThe company, America’s largest retailer, said it will stop selling handgun ammunition and “short-barrel rifle ammunition,” such as the .223 caliber and 5.56 caliber, that can also be used on assault-style weapons after selling all of its current inventory. Walmart (WMT) will also stop selling handguns in Alaska, the only state where it still sells handguns. And Walmart (WMT) will request that customers no longer openly carry guns into its 4,700 US stores, or its Sam’s Club stores, in states that allow open carry.\\n“It’s clear to us that the status quo is unacceptable,” Walmart CEO Doug McMillon said in a memo to employees on Tuesday.\\nHowever, Walmart will continue to sell long barrel deer rifles and shotguns and much of the ammunition for those guns. The company sells guns in about 3,900 stores. Walmart will also continue to allow concealed carry by customers with permits in its stores.\\nMcMillon said Walmart’s changes were prompted by the El Paso, Texas, shooting, as well as recent mass shootings in Dayton, Ohio, and Midland and Odessa, Texas.\\nThe measured steps announced Tuesday are the latest changes Walmart has made to its gun policies in recent years as mass shootings continue in America.\\nWalmart attempted again to balance customers who own guns and are “part of our customer base” with safety in stores, Dan Bartlett, Walmart executive vice president of corporate affairs, said on a call with reporters.\\n“We feel like we are striking a responsible balance between the interests of law-abiding citizens who are exercising their legal rights and the safety concerns of our associates and customers,” he said.\\nWalmart represents about 2% of the market for guns today, the company said for the first time recently. Walmart believes it is not among the top three gun sellers in the industry, but it estimates it has about a 20% market share of ammunition sales.\\nOn Tuesday, McMillon said that Walmart’s changes to ammunition policies will reduce its market share from around 20% to between 6% and 9%. “We believe it will likely drift toward the lower end of that range, over time, given the combination of these changes,” he said.\\nMcMillion, who said he was a gun owner himself, took pains to avoid alienating customers.\\n“We will treat law-abiding customers with respect, and we will have a very non-confrontational approach,” he said. “Our remaining assortment will be even more focused on the needs of hunting and sport shooting enthusiasts.”\\nIn addition, McMillon said that he would send letters to the White House and congressional leaders that “call for action” on “common sense” gun safety measures. McMillon said Congress should debate re-authorizing the assault weapons ban and expand background checks.\\n“We encourage our nation’s leaders to move forward and strengthen background checks and to remove weapons from those who have been determined to pose an imminent danger,” he said. “Congress and the administration should act. Given our decades of experience selling firearms, we are also offering to serve as a resource in the national debate on responsible gun sales.”\\nOn August 3, a Walmart in El Paso was the scene of one of the worst mass shootings in American history. Federal investigators are treating the shooting as an act of domestic terrorism.\\nIn the wake of the shooting, Walmart has faced enormous pressure to remove firearms from its physical stores and criticized for selling pro-gun T-shirts on its website. Several Democratic candidates for president have called on Walmart to stop selling guns at its stores. America’s largest teachers’ union, The American Federation of Teachers, and gun safety groups have pressed the retailer to end its gun sales.\\nWalmart previously pulled displays of violent video games in its stores and also removed about 1,000 third-party items from its website.\\nDespite its history of selling hunting weapons that goes back to Walmart’s origins, Walmart has shifted its gun policies. It stopped selling assault rifles in 2015 and raised its minimum gun purchasing age to 21 last year after the Parkland, Florida, shooting. Walmart also stopped selling handguns in every state but Alaska in the mid-1990s and only sells a firearm to customers after receiving a “green light” on a background check.\\n“We understand that heritage, our deeply rooted place in America and our influence as the world’s largest retailer. And we understand the responsibility that comes with it,” McMillon said.\\n– Correction: A previous version of this article incorrectly stated the date of the El Paso, Texas, shooting.\\nMost stock quote data provided by BATS. US market indices are shown in real time, except for the S&P 500 which is refreshed every two minutes. All times are ET. Factset: FactSet Research Systems Inc. All rights reserved. Chicago Mercantile: Certain market data is the property of Chicago Mercantile Exchange Inc. and its licensors. All rights reserved. Dow Jones: The Dow Jones branded indices are proprietary to and are calculated, distributed and marketed by DJI Opco, a subsidiary of S&P Dow Jones Indices LLC and have been licensed for use to S&P Opco, LLC and CNN. Standard & Poor’s and S&P are registered trademarks of Standard & Poor’s Financial Services LLC and Dow Jones is a registered trademark of Dow Jones Trademark Holdings LLC. All content of the Dow Jones branded indices Copyright S&P Dow Jones Indices LLC and/or its affiliates. Fair value provided by IndexArb.com. Market holidays and trading hours provided by Copp Clark Limited.\\n© 2024 Cable News Network. A Warner Bros. Discovery Company. All Rights Reserved. CNN Sans ™ & © 2016 Cable News Network.',\n",
       " '',\n",
       " 'A day after saying it had moved firearms and ammunition off the sales floor \"as a precaution,\" Walmart reversed course, saying it will make those items visible again Friday.\\n\"After civil unrest earlier this week resulted in damage to several of our stores ... we asked stores to move firearms and ammunition from the sales floor to a secure location in the back of the store in an abundance of caution,\\'\\' the retailer said in a statement. \"As the current incidents have remained geographically isolated, we have made the decision to begin returning these products to the sales floor today.”\\nThe Wall Street Journal was first to report that Walmart moved the merchandise to ward off the stealing of firearms if stores were broken into amid potential unrest sparked by the presidential election.\\nThe nation\\'s largest retailer said it took similar action in recent years to maintain the safety of its employees and customers.\\nWalmart moves guns, ammo: Walmart removes guns, ammunition from store displays before election amid concerns of civil unrest\\nAmericans prepare for lockdowns, unrest:They plan to stockpile food this fall over fears of COVID-19, election unrest\\nWalmart sells firearms in roughly half of its 4,700 stores.\\nA new USA TODAY/Suffolk University Poll found Americans are increasingly worried about whether voting will be peaceful and whether the election\\'s outcome will be broadly accepted after a tumultuous campaign season finally comes to an end.\\nThree of 4 voters express concern about the possibility of violence on Election Day. One in 4 say they are \"very confident\" that the USA will have a peaceful transfer of power if Democratic challenger Joe Biden defeats President Donald Trump.\\nWalmart has taken steps to curtail the sale of ammunition and guns over the years. In the early 1990s, the retailer stopped selling handguns except in Alaska. In 2015, it halted sales of modern sporting rifles, and in 2018, Walmart banned sales of firearms to anyone under 21.\\nFears of social unrest and expectations that a Democratic sweep of the White House and Congress could lead to stricter gun laws have caused gunmaker stock prices to spike.\\nContributing: Kelly Tyko\\nFollow USA TODAY reporter Charisse Jones on Twitter @charissejones']"
      ]
     },
     "execution_count": 4,
     "metadata": {},
     "output_type": "execute_result"
    }
   ],
   "source": [
    "import requests\n",
    "from bs4 import BeautifulSoup\n",
    "import re\n",
    "\n",
    "# regex to find any whitespace\n",
    "whitespace = re.compile(r\"\\s+\")\n",
    "\n",
    "\n",
    "# replace all whitespace with a single space\n",
    "def clean_whitespace(text):\n",
    "    return whitespace.sub(\" \", text)\n",
    "\n",
    "\n",
    "links = [v for dictionary in brave.get_links(10) for k, v in dictionary.items()]\n",
    "soups = [BeautifulSoup(requests.get(link).text, \"html.parser\") for link in links]\n",
    "titles = [soup.title.string for soup in soups]\n",
    "texts = [\n",
    "    \"\\n\".join(\n",
    "        text\n",
    "        for text in [\n",
    "            clean_whitespace(p.get_text().replace(\"\\n\", \"\").strip())\n",
    "            for p in soup.find_all(\"p\")\n",
    "        ]\n",
    "        if (\n",
    "            (text.lower().find(\"enable js\") == -1)\n",
    "            and (text.lower().find(\"javascript\") == -1)\n",
    "            and (text.lower().find(\"ad blocker\") == -1)\n",
    "            and (text.lower().find(\"something went wrong\") == -1)\n",
    "            and (len(text) > 1)\n",
    "        )\n",
    "    )\n",
    "    for soup in soups\n",
    "]\n",
    "\n",
    "texts"
   ]
  },
  {
   "cell_type": "code",
   "execution_count": 12,
   "metadata": {},
   "outputs": [
    {
     "name": "stdout",
     "output_type": "stream",
     "text": [
      "125\n",
      "\n",
      "feb 28 2018 february 28 2018 light recent event taken opportunity review policy firearm sale going forward raising age restriction purchase firearm ammunition 21 year age update process quickly possible implement change 2015 walmart ended sale modern sporting rifle including ar 15 also sell handgun except alaska feel continue offer customer additionally sell bump stock high capacity magazine similar accessory process monitor ecommerce marketplace ensure policy applied take seriously obligation responsible seller firearm go beyond federal law requiring customer pas background check purchasing firearm law would allow sale firearm response background check request received within three business day policy prohibits sale approval given also removing item website resembling assault style rifle including nonlethal airsoft gun toy heritage company always serving sportsman hunter continue responsible way\n",
      "\n",
      "111\n",
      "\n",
      "understand responsibility come deeply rooted place america influence world largest retailer care deeply responsible sale regulation firearm know also important issue customer 2018 made decision raise minimum age purchase firearm ammunition store 21 year age year prior ended sale modern sporting rifle including ar 15 recently september 2019 decided longer sell ammunition used large capacity magazine military style weapon sell also made complete exit handgun sale focus assortment ammunition firearm carry additionally require customer pas background check despite federal law allowing firearm sold three day waiting period even approval received also videotape point sale firearm allow certain trained associate sell firearm heritage company always serving sportsman hunter plan continue responsible way\n",
      "\n",
      "25\n",
      "\n",
      "thing related nj gun review posting rule menu posting could sworn seen gun walmart kid sure heck never seen adult jersey know still basic essential\n",
      "\n",
      "0\n",
      "\n",
      "\n",
      "\n",
      "371\n",
      "\n",
      "watch cbs news kate gibson october 30 2020 3 45 pm edt moneywatch walmart friday said returning gun ammunition store floor describing incident retailer called civil unrest several store earlier week isolated .\" move come day walmart said pulled firearm ammo store display walmart among score store looted amid two night protest followed fatal shooting monday police philadelphia civil unrest earlier week resulted damage several store consistent action took summer asked store move firearm ammunition sale floor secure location back store abundance caution ,\" walmart spokesperson said email current incident remained geographically isolated made decision begin returning product sale floor today .\" company also removed firearm ammo store june several store damaged protest following death george floyd hand minneapolis police nation biggest retailer remains major seller gun ammunition although scaled back selling firearm roughly half 4 700 u store walmart stopped selling ammunition used semiautomatic rifle handgun 2019 shooting one store el paso texas killed 23 people company stopped selling assault style weapon 2015 raised minimum age buy firearm ammunition 21 18 2018 stopped selling handgun everywhere alaska 1993 ended sale rifle like ar 15 2015 walmart ceo doug mcmillon resisted pressure take company gun business altogether saying last year remaining assortment firearm focus hunting sport shooting consumer demand firearm jumped year national shooting sport foundation industry trade group estimate record 12 1 million background check gun purchase january july nearly 72 7 1 million gun check year ago period forty percent firearm sale involves purchaser never owned gun according nssf survey firearm retailer concludes almost 5 million american bought gun first time 2020 gun dealer reported surge firearm sale spring coronavirus spreading martial law declared want prepared protect home ,\" one dealer told cbs moneywatch time coronavirus fear unknown .\" covid 19 firearm sale tumbled recent year part fewer concern among gun buyer stricter regulation president donald trump rash mass shooting around country also driven large company retailer stop business gun industry kate gibson reporter cbs moneywatch new york cover business consumer finance © 2020 cbs interactive inc right reserved copyright © 2024 cbs interactive inc right reserved quote delayed least 15 minute market data provided ice data service ice limitation powered implemented factset news provided associated press legal statement\n",
      "\n",
      "10\n",
      "\n",
      "activate hold button confirm human thank © walmart store inc\n",
      "\n",
      "0\n",
      "\n",
      "\n",
      "\n",
      "630\n",
      "\n",
      "market hot stock fear greed index latest market news hot stock walmart tuesday announced reduce gun ammunition sale one month 20 people killed mass shooting walmart el paso texas walmart also pressured congress enact gun safety measure company america largest retailer said stop selling handgun ammunition short barrel rifle ammunition ,” 223 caliber 5 56 caliber also used assault style weapon selling current inventory walmart wmt also stop selling handgun alaska state still sell handgun walmart wmt request customer longer openly carry gun 4 700 u store sam club store state allow open carry clear u status quo unacceptable ,” walmart ceo doug mcmillon said memo employee tuesday however walmart continue sell long barrel deer rifle shotgun much ammunition gun company sell gun 3 900 store walmart also continue allow concealed carry customer permit store mcmillon said walmart change prompted el paso texas shooting well recent mass shooting dayton ohio midland odessa texas measured step announced tuesday latest change walmart made gun policy recent year mass shooting continue america walmart attempted balance customer gun part customer base safety store dan bartlett walmart executive vice president corporate affair said call reporter feel like striking responsible balance interest law abiding citizen exercising legal right safety concern associate customer ,” said walmart represents 2 market gun today company said first time recently walmart belief among top three gun seller industry estimate 20 market share ammunition sale tuesday mcmillon said walmart change ammunition policy reduce market share around 20 6 9 %. believe likely drift toward lower end range time given combination change ,” said mcmillion said gun owner took pain avoid alienating customer treat law abiding customer respect non confrontational approach ,” said remaining assortment even focused need hunting sport shooting enthusiast .” addition mcmillon said would send letter white house congressional leader call action common sense gun safety measure mcmillon said congress debate authorizing assault weapon ban expand background check encourage nation leader move forward strengthen background check remove weapon determined pose imminent danger ,” said congress administration act given decade experience selling firearm also offering serve resource national debate responsible gun sale .” august 3 walmart el paso scene one worst mass shooting american history federal investigator treating shooting act domestic terrorism wake shooting walmart faced enormous pressure remove firearm physical store criticized selling pro gun shirt website several democratic candidate president called walmart stop selling gun store america largest teacher union american federation teacher gun safety group pressed retailer end gun sale walmart previously pulled display violent video game store also removed 1 000 third party item website despite history selling hunting weapon go back walmart origin walmart shifted gun policy stopped selling assault rifle 2015 raised minimum gun purchasing age 21 last year parkland florida shooting walmart also stopped selling handgun every state alaska mid 1990s sell firearm customer receiving green light background check understand heritage deeply rooted place america influence world largest retailer understand responsibility come ,” mcmillon said – correction previous version article incorrectly stated date el paso texas shooting stock quote data provided bat u market index shown real time except p 500 refreshed every two minute time et factset factset research system inc right reserved chicago mercantile certain market data property chicago mercantile exchange inc licensors right reserved dow jones dow jones branded index proprietary calculated distributed marketed dji opco subsidiary p dow jones index llc licensed use p opco llc cnn standard poor p registered trademark standard poor financial service llc dow jones registered trademark dow jones trademark holding llc content dow jones branded index copyright p dow jones index llc affiliate fair value provided indexarb com market holiday trading hour provided copp clark limited © 2024 cable news network warner bros discovery company right reserved cnn sans ™ © 2016 cable news network\n",
      "\n",
      "0\n",
      "\n",
      "\n",
      "\n",
      "233\n",
      "\n",
      "day saying moved firearm ammunition sale floor precaution ,\" walmart reversed course saying make item visible friday civil unrest earlier week resulted damage several store ... asked store move firearm ammunition sale floor secure location back store abundance caution ,'' retailer said statement current incident remained geographically isolated made decision begin returning product sale floor today .” wall street journal first report walmart moved merchandise ward stealing firearm store broken amid potential unrest sparked presidential election nation largest retailer said took similar action recent year maintain safety employee customer walmart move gun ammo walmart remove gun ammunition store display election amid concern civil unrest american prepare lockdown unrest plan stockpile food fall fear covid 19 election unrest walmart sell firearm roughly half 4 700 store new usa today suffolk university poll found american increasingly worried whether voting peaceful whether election outcome broadly accepted tumultuous campaign season finally come end three 4 voter express concern possibility violence election day one 4 say confident usa peaceful transfer power democratic challenger joe biden defeat president donald trump walmart taken step curtail sale ammunition gun year early 1990s retailer stopped selling handgun except alaska 2015 halted sale modern sporting rifle 2018 walmart banned sale firearm anyone 21 fear social unrest expectation democratic sweep white house congress could lead stricter gun law caused gunmaker stock price spike contributing kelly tyko follow usa today reporter charisse jones twitter charissejones\n",
      "\n"
     ]
    }
   ],
   "source": [
    "from nltk.tokenize import WordPunctTokenizer\n",
    "from nltk.corpus import stopwords\n",
    "from nltk.stem import WordNetLemmatizer\n",
    "from string import punctuation\n",
    "\n",
    "search_results = []\n",
    "for tt in texts:\n",
    "    temp = WordPunctTokenizer().tokenize(tt)\n",
    "    temp = [word.lower() for word in temp]\n",
    "    temp = [word for word in temp if word not in stopwords.words(\"english\")]\n",
    "    temp = [\n",
    "        word for word in temp if word not in punctuation and word not in [\"’\", \"“\", \"”\"]\n",
    "    ]\n",
    "    temp = [WordNetLemmatizer().lemmatize(word) for word in temp]\n",
    "\n",
    "    search_results.append(\" \".join(temp))\n",
    "\n",
    "    print(len(temp))\n",
    "    print()\n",
    "    print(\" \".join(temp))\n",
    "    print()"
   ]
  },
  {
   "cell_type": "code",
   "execution_count": 6,
   "metadata": {},
   "outputs": [],
   "source": [
    "from navigator_py.generative_ai_provider import OpenAIProvider\n",
    "from navigator_py.generative_ai_request import OpenAIRequest"
   ]
  },
  {
   "cell_type": "code",
   "execution_count": 9,
   "metadata": {},
   "outputs": [],
   "source": [
    "oai = OpenAIRequest(OpenAIProvider())"
   ]
  },
  {
   "cell_type": "code",
   "execution_count": 13,
   "metadata": {},
   "outputs": [
    {
     "data": {
      "text/plain": [
       "['feb 28 2018 february 28 2018 light recent event taken opportunity review policy firearm sale going forward raising age restriction purchase firearm ammunition 21 year age update process quickly possible implement change 2015 walmart ended sale modern sporting rifle including ar 15 also sell handgun except alaska feel continue offer customer additionally sell bump stock high capacity magazine similar accessory process monitor ecommerce marketplace ensure policy applied take seriously obligation responsible seller firearm go beyond federal law requiring customer pas background check purchasing firearm law would allow sale firearm response background check request received within three business day policy prohibits sale approval given also removing item website resembling assault style rifle including nonlethal airsoft gun toy heritage company always serving sportsman hunter continue responsible way',\n",
       " 'understand responsibility come deeply rooted place america influence world largest retailer care deeply responsible sale regulation firearm know also important issue customer 2018 made decision raise minimum age purchase firearm ammunition store 21 year age year prior ended sale modern sporting rifle including ar 15 recently september 2019 decided longer sell ammunition used large capacity magazine military style weapon sell also made complete exit handgun sale focus assortment ammunition firearm carry additionally require customer pas background check despite federal law allowing firearm sold three day waiting period even approval received also videotape point sale firearm allow certain trained associate sell firearm heritage company always serving sportsman hunter plan continue responsible way',\n",
       " 'thing related nj gun review posting rule menu posting could sworn seen gun walmart kid sure heck never seen adult jersey know still basic essential',\n",
       " '',\n",
       " 'watch cbs news kate gibson october 30 2020 3 45 pm edt moneywatch walmart friday said returning gun ammunition store floor describing incident retailer called civil unrest several store earlier week isolated .\" move come day walmart said pulled firearm ammo store display walmart among score store looted amid two night protest followed fatal shooting monday police philadelphia civil unrest earlier week resulted damage several store consistent action took summer asked store move firearm ammunition sale floor secure location back store abundance caution ,\" walmart spokesperson said email current incident remained geographically isolated made decision begin returning product sale floor today .\" company also removed firearm ammo store june several store damaged protest following death george floyd hand minneapolis police nation biggest retailer remains major seller gun ammunition although scaled back selling firearm roughly half 4 700 u store walmart stopped selling ammunition used semiautomatic rifle handgun 2019 shooting one store el paso texas killed 23 people company stopped selling assault style weapon 2015 raised minimum age buy firearm ammunition 21 18 2018 stopped selling handgun everywhere alaska 1993 ended sale rifle like ar 15 2015 walmart ceo doug mcmillon resisted pressure take company gun business altogether saying last year remaining assortment firearm focus hunting sport shooting consumer demand firearm jumped year national shooting sport foundation industry trade group estimate record 12 1 million background check gun purchase january july nearly 72 7 1 million gun check year ago period forty percent firearm sale involves purchaser never owned gun according nssf survey firearm retailer concludes almost 5 million american bought gun first time 2020 gun dealer reported surge firearm sale spring coronavirus spreading martial law declared want prepared protect home ,\" one dealer told cbs moneywatch time coronavirus fear unknown .\" covid 19 firearm sale tumbled recent year part fewer concern among gun buyer stricter regulation president donald trump rash mass shooting around country also driven large company retailer stop business gun industry kate gibson reporter cbs moneywatch new york cover business consumer finance © 2020 cbs interactive inc right reserved copyright © 2024 cbs interactive inc right reserved quote delayed least 15 minute market data provided ice data service ice limitation powered implemented factset news provided associated press legal statement',\n",
       " 'activate hold button confirm human thank © walmart store inc',\n",
       " '',\n",
       " 'market hot stock fear greed index latest market news hot stock walmart tuesday announced reduce gun ammunition sale one month 20 people killed mass shooting walmart el paso texas walmart also pressured congress enact gun safety measure company america largest retailer said stop selling handgun ammunition short barrel rifle ammunition ,” 223 caliber 5 56 caliber also used assault style weapon selling current inventory walmart wmt also stop selling handgun alaska state still sell handgun walmart wmt request customer longer openly carry gun 4 700 u store sam club store state allow open carry clear u status quo unacceptable ,” walmart ceo doug mcmillon said memo employee tuesday however walmart continue sell long barrel deer rifle shotgun much ammunition gun company sell gun 3 900 store walmart also continue allow concealed carry customer permit store mcmillon said walmart change prompted el paso texas shooting well recent mass shooting dayton ohio midland odessa texas measured step announced tuesday latest change walmart made gun policy recent year mass shooting continue america walmart attempted balance customer gun part customer base safety store dan bartlett walmart executive vice president corporate affair said call reporter feel like striking responsible balance interest law abiding citizen exercising legal right safety concern associate customer ,” said walmart represents 2 market gun today company said first time recently walmart belief among top three gun seller industry estimate 20 market share ammunition sale tuesday mcmillon said walmart change ammunition policy reduce market share around 20 6 9 %. believe likely drift toward lower end range time given combination change ,” said mcmillion said gun owner took pain avoid alienating customer treat law abiding customer respect non confrontational approach ,” said remaining assortment even focused need hunting sport shooting enthusiast .” addition mcmillon said would send letter white house congressional leader call action common sense gun safety measure mcmillon said congress debate authorizing assault weapon ban expand background check encourage nation leader move forward strengthen background check remove weapon determined pose imminent danger ,” said congress administration act given decade experience selling firearm also offering serve resource national debate responsible gun sale .” august 3 walmart el paso scene one worst mass shooting american history federal investigator treating shooting act domestic terrorism wake shooting walmart faced enormous pressure remove firearm physical store criticized selling pro gun shirt website several democratic candidate president called walmart stop selling gun store america largest teacher union american federation teacher gun safety group pressed retailer end gun sale walmart previously pulled display violent video game store also removed 1 000 third party item website despite history selling hunting weapon go back walmart origin walmart shifted gun policy stopped selling assault rifle 2015 raised minimum gun purchasing age 21 last year parkland florida shooting walmart also stopped selling handgun every state alaska mid 1990s sell firearm customer receiving green light background check understand heritage deeply rooted place america influence world largest retailer understand responsibility come ,” mcmillon said – correction previous version article incorrectly stated date el paso texas shooting stock quote data provided bat u market index shown real time except p 500 refreshed every two minute time et factset factset research system inc right reserved chicago mercantile certain market data property chicago mercantile exchange inc licensors right reserved dow jones dow jones branded index proprietary calculated distributed marketed dji opco subsidiary p dow jones index llc licensed use p opco llc cnn standard poor p registered trademark standard poor financial service llc dow jones registered trademark dow jones trademark holding llc content dow jones branded index copyright p dow jones index llc affiliate fair value provided indexarb com market holiday trading hour provided copp clark limited © 2024 cable news network warner bros discovery company right reserved cnn sans ™ © 2016 cable news network',\n",
       " '',\n",
       " 'day saying moved firearm ammunition sale floor precaution ,\" walmart reversed course saying make item visible friday civil unrest earlier week resulted damage several store ... asked store move firearm ammunition sale floor secure location back store abundance caution ,\\'\\' retailer said statement current incident remained geographically isolated made decision begin returning product sale floor today .” wall street journal first report walmart moved merchandise ward stealing firearm store broken amid potential unrest sparked presidential election nation largest retailer said took similar action recent year maintain safety employee customer walmart move gun ammo walmart remove gun ammunition store display election amid concern civil unrest american prepare lockdown unrest plan stockpile food fall fear covid 19 election unrest walmart sell firearm roughly half 4 700 store new usa today suffolk university poll found american increasingly worried whether voting peaceful whether election outcome broadly accepted tumultuous campaign season finally come end three 4 voter express concern possibility violence election day one 4 say confident usa peaceful transfer power democratic challenger joe biden defeat president donald trump walmart taken step curtail sale ammunition gun year early 1990s retailer stopped selling handgun except alaska 2015 halted sale modern sporting rifle 2018 walmart banned sale firearm anyone 21 fear social unrest expectation democratic sweep white house congress could lead stricter gun law caused gunmaker stock price spike contributing kelly tyko follow usa today reporter charisse jones twitter charissejones']"
      ]
     },
     "execution_count": 13,
     "metadata": {},
     "output_type": "execute_result"
    }
   ],
   "source": []
  },
  {
   "cell_type": "code",
   "execution_count": 23,
   "metadata": {},
   "outputs": [
    {
     "name": "stdout",
     "output_type": "stream",
     "text": [
      "You are a diligent underwriting assistant whose sole job is to determine whether or not a prospective business sells firearms or not. You are tasked with visiting the website of a business and reading the information on the website to determine if they sell firearms. You are not allowed to use any other sources of information other than the website itself. You are not allowed to use any tools or software to help you determine if the business sells firearms. You are only allowed to use your own judgement based on the information on the website. \n",
      "\n",
      "Read the following text retrieved from a web search of \"does walmart sell handguns\" and write a summary of the information you found. Keep in mind that the text has been preprocessed, converting all words to lowercase, removing stopwords, lemmatizing the words, and removing most punctuation.\n",
      "\n",
      "====================\n",
      "\n",
      "Search result 1:\n",
      "===============\n",
      "\n",
      "feb 28 2018 february 28 2018 light recent event taken opportunity review policy firearm sale going forward raising age restriction purchase firearm ammunition 21 year age update process quickly possible implement change 2015 walmart ended sale modern sporting rifle including ar 15 also sell handgun except alaska feel continue offer customer additionally sell bump stock high capacity magazine similar accessory process monitor ecommerce marketplace ensure policy applied take seriously obligation responsible seller firearm go beyond federal law requiring customer pas background check purchasing firearm law would allow sale firearm response background check request received within three business day policy prohibits sale approval given also removing item website resembling assault style rifle including nonlethal airsoft gun toy heritage company always serving sportsman hunter continue responsible way\n",
      "\n",
      "Search result 2:\n",
      "===============\n",
      "\n",
      "understand responsibility come deeply rooted place america influence world largest retailer care deeply responsible sale regulation firearm know also important issue customer 2018 made decision raise minimum age purchase firearm ammunition store 21 year age year prior ended sale modern sporting rifle including ar 15 recently september 2019 decided longer sell ammunition used large capacity magazine military style weapon sell also made complete exit handgun sale focus assortment ammunition firearm carry additionally require customer pas background check despite federal law allowing firearm sold three day waiting period even approval received also videotape point sale firearm allow certain trained associate sell firearm heritage company always serving sportsman hunter plan continue responsible way\n",
      "\n",
      "Search result 3:\n",
      "===============\n",
      "\n",
      "thing related nj gun review posting rule menu posting could sworn seen gun walmart kid sure heck never seen adult jersey know still basic essential\n",
      "\n",
      "Search result 4:\n",
      "===============\n",
      "\n",
      "\n",
      "\n",
      "Search result 5:\n",
      "===============\n",
      "\n",
      "watch cbs news kate gibson october 30 2020 3 45 pm edt moneywatch walmart friday said returning gun ammunition store floor describing incident retailer called civil unrest several store earlier week isolated .\" move come day walmart said pulled firearm ammo store display walmart among score store looted amid two night protest followed fatal shooting monday police philadelphia civil unrest earlier week resulted damage several store consistent action took summer asked store move firearm ammunition sale floor secure location back store abundance caution ,\" walmart spokesperson said email current incident remained geographically isolated made decision begin returning product sale floor today .\" company also removed firearm ammo store june several store damaged protest following death george floyd hand minneapolis police nation biggest retailer remains major seller gun ammunition although scaled back selling firearm roughly half 4 700 u store walmart stopped selling ammunition used semiautomatic rifle handgun 2019 shooting one store el paso texas killed 23 people company stopped selling assault style weapon 2015 raised minimum age buy firearm ammunition 21 18 2018 stopped selling handgun everywhere alaska 1993 ended sale rifle like ar 15 2015 walmart ceo doug mcmillon resisted pressure take company gun business altogether saying last year remaining assortment firearm focus hunting sport shooting consumer demand firearm jumped year national shooting sport foundation industry trade group estimate record 12 1 million background check gun purchase january july nearly 72 7 1 million gun check year ago period forty percent firearm sale involves purchaser never owned gun according nssf survey firearm retailer concludes almost 5 million american bought gun first time 2020 gun dealer reported surge firearm sale spring coronavirus spreading martial law declared want prepared protect home ,\" one dealer told cbs moneywatch time coronavirus fear unknown .\" covid 19 firearm sale tumbled recent year part fewer concern among gun buyer stricter regulation president donald trump rash mass shooting around country also driven large company retailer stop business gun industry kate gibson reporter cbs moneywatch new york cover business consumer finance © 2020 cbs interactive inc right reserved copyright © 2024 cbs interactive inc right reserved quote delayed least 15 minute market data provided ice data service ice limitation powered implemented factset news provided associated press legal statement\n",
      "\n",
      "Search result 6:\n",
      "===============\n",
      "\n",
      "activate hold button confirm human thank © walmart store inc\n",
      "\n",
      "Search result 7:\n",
      "===============\n",
      "\n",
      "\n",
      "\n",
      "Search result 8:\n",
      "===============\n",
      "\n",
      "market hot stock fear greed index latest market news hot stock walmart tuesday announced reduce gun ammunition sale one month 20 people killed mass shooting walmart el paso texas walmart also pressured congress enact gun safety measure company america largest retailer said stop selling handgun ammunition short barrel rifle ammunition ,” 223 caliber 5 56 caliber also used assault style weapon selling current inventory walmart wmt also stop selling handgun alaska state still sell handgun walmart wmt request customer longer openly carry gun 4 700 u store sam club store state allow open carry clear u status quo unacceptable ,” walmart ceo doug mcmillon said memo employee tuesday however walmart continue sell long barrel deer rifle shotgun much ammunition gun company sell gun 3 900 store walmart also continue allow concealed carry customer permit store mcmillon said walmart change prompted el paso texas shooting well recent mass shooting dayton ohio midland odessa texas measured step announced tuesday latest change walmart made gun policy recent year mass shooting continue america walmart attempted balance customer gun part customer base safety store dan bartlett walmart executive vice president corporate affair said call reporter feel like striking responsible balance interest law abiding citizen exercising legal right safety concern associate customer ,” said walmart represents 2 market gun today company said first time recently walmart belief among top three gun seller industry estimate 20 market share ammunition sale tuesday mcmillon said walmart change ammunition policy reduce market share around 20 6 9 %. believe likely drift toward lower end range time given combination change ,” said mcmillion said gun owner took pain avoid alienating customer treat law abiding customer respect non confrontational approach ,” said remaining assortment even focused need hunting sport shooting enthusiast .” addition mcmillon said would send letter white house congressional leader call action common sense gun safety measure mcmillon said congress debate authorizing assault weapon ban expand background check encourage nation leader move forward strengthen background check remove weapon determined pose imminent danger ,” said congress administration act given decade experience selling firearm also offering serve resource national debate responsible gun sale .” august 3 walmart el paso scene one worst mass shooting american history federal investigator treating shooting act domestic terrorism wake shooting walmart faced enormous pressure remove firearm physical store criticized selling pro gun shirt website several democratic candidate president called walmart stop selling gun store america largest teacher union american federation teacher gun safety group pressed retailer end gun sale walmart previously pulled display violent video game store also removed 1 000 third party item website despite history selling hunting weapon go back walmart origin walmart shifted gun policy stopped selling assault rifle 2015 raised minimum gun purchasing age 21 last year parkland florida shooting walmart also stopped selling handgun every state alaska mid 1990s sell firearm customer receiving green light background check understand heritage deeply rooted place america influence world largest retailer understand responsibility come ,” mcmillon said – correction previous version article incorrectly stated date el paso texas shooting stock quote data provided bat u market index shown real time except p 500 refreshed every two minute time et factset factset research system inc right reserved chicago mercantile certain market data property chicago mercantile exchange inc licensors right reserved dow jones dow jones branded index proprietary calculated distributed marketed dji opco subsidiary p dow jones index llc licensed use p opco llc cnn standard poor p registered trademark standard poor financial service llc dow jones registered trademark dow jones trademark holding llc content dow jones branded index copyright p dow jones index llc affiliate fair value provided indexarb com market holiday trading hour provided copp clark limited © 2024 cable news network warner bros discovery company right reserved cnn sans ™ © 2016 cable news network\n",
      "\n",
      "Search result 9:\n",
      "===============\n",
      "\n",
      "\n",
      "\n",
      "Search result 10:\n",
      "================\n",
      "\n",
      "day saying moved firearm ammunition sale floor precaution ,\" walmart reversed course saying make item visible friday civil unrest earlier week resulted damage several store ... asked store move firearm ammunition sale floor secure location back store abundance caution ,'' retailer said statement current incident remained geographically isolated made decision begin returning product sale floor today .” wall street journal first report walmart moved merchandise ward stealing firearm store broken amid potential unrest sparked presidential election nation largest retailer said took similar action recent year maintain safety employee customer walmart move gun ammo walmart remove gun ammunition store display election amid concern civil unrest american prepare lockdown unrest plan stockpile food fall fear covid 19 election unrest walmart sell firearm roughly half 4 700 store new usa today suffolk university poll found american increasingly worried whether voting peaceful whether election outcome broadly accepted tumultuous campaign season finally come end three 4 voter express concern possibility violence election day one 4 say confident usa peaceful transfer power democratic challenger joe biden defeat president donald trump walmart taken step curtail sale ammunition gun year early 1990s retailer stopped selling handgun except alaska 2015 halted sale modern sporting rifle 2018 walmart banned sale firearm anyone 21 fear social unrest expectation democratic sweep white house congress could lead stricter gun law caused gunmaker stock price spike contributing kelly tyko follow usa today reporter charisse jones twitter charissejones\n",
      "\n",
      "\n"
     ]
    }
   ],
   "source": [
    "system_prompt = \"\"\"You are a diligent underwriting assistant whose sole job is to determine whether or not a prospective business sells firearms or not. You are tasked with visiting the website of a business and reading the information on the website to determine if they sell firearms. You are not allowed to use any other sources of information other than the website itself. You are not allowed to use any tools or software to help you determine if the business sells firearms. You are only allowed to use your own judgement based on the information on the website. \n",
    "\n",
    "Read the following text retrieved from a web search of \"does walmart sell handguns\" and write a summary of the information you found. Keep in mind that the text has been preprocessed, converting all words to lowercase, removing stopwords, lemmatizing the words, and removing most punctuation.\n",
    "\n",
    "====================\n",
    "\n",
    "\"\"\"\n",
    "\n",
    "for i, sr in enumerate(search_results):\n",
    "    system_prompt += (\n",
    "        f\"Search result {i+1}:\"\n",
    "        + \"\\n\"\n",
    "        + \"=\" * len(f\"Search result {i+1}\")\n",
    "        + \"\\n\\n\"\n",
    "        + sr\n",
    "        + \"\\n\\n\"\n",
    "    )\n",
    "\n",
    "print(system_prompt)"
   ]
  },
  {
   "cell_type": "code",
   "execution_count": 27,
   "metadata": {},
   "outputs": [],
   "source": [
    "post_user_prompt = \"Based on the information above, answer yes, no, or 'I cannot tell' to the question: Does walmart sell firearms?. Please provide a brief explanation of your answer, and indicate which sources you used to make your determination.\""
   ]
  },
  {
   "cell_type": "code",
   "execution_count": 28,
   "metadata": {},
   "outputs": [
    {
     "data": {
      "text/plain": [
       "\"**Yes, Walmart sells firearms.**\\n\\n**Explanation:**\\nThe search results provide multiple pieces of evidence indicating that Walmart continues to sell firearms, though with several restrictions and changes over time:\\n\\n1. **Search results 1 and 2**: Both mention that Walmart discontinued the sale of modern sporting rifles (including AR-15s) and handguns (except in Alaska). They also raised the minimum age to purchase firearms and ammunition to 21 years and stopped selling certain types of ammunition. However, they continue to sell firearms meant for hunting and sport shooting.\\n\\n2. **Search results 5, 8, and 10**: These results confirm that Walmart still sells long-barrel deer rifles and shotguns and describes Walmart as a major seller of firearms and ammunition, though they have scaled back their offerings. Additionally, Walmart's CEO has stated that they aim to balance the needs of hunting and sport shooting enthusiasts with safety concerns.\\n\\nTherefore, based on the provided information, Walmart does indeed continue to sell certain types of firearms, specifically those intended for hunting and sport shooting.\\n\\n**Sources used:**\\n- Search result 1\\n- Search result 2\\n- Search result 5\\n- Search result 8\\n- Search result 10\""
      ]
     },
     "execution_count": 28,
     "metadata": {},
     "output_type": "execute_result"
    }
   ],
   "source": [
    "oai = OpenAIRequest(\n",
    "    OpenAIProvider(), _system_prompt=system_prompt, _post_user_prompt=post_user_prompt\n",
    ")\n",
    "res = oai.prompt(\"Does Walmart sell firearms?\")\n",
    "res.content"
   ]
  }
 ],
 "metadata": {
  "kernelspec": {
   "display_name": ".venv",
   "language": "python",
   "name": "python3"
  },
  "language_info": {
   "codemirror_mode": {
    "name": "ipython",
    "version": 3
   },
   "file_extension": ".py",
   "mimetype": "text/x-python",
   "name": "python",
   "nbconvert_exporter": "python",
   "pygments_lexer": "ipython3",
   "version": "3.9.19"
  }
 },
 "nbformat": 4,
 "nbformat_minor": 2
}
